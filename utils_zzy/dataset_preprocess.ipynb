{
 "cells": [
  {
   "cell_type": "code",
   "execution_count": 1,
   "metadata": {},
   "outputs": [],
   "source": [
    "import pydicom as dicom\n",
    "import cv2\n",
    "import numpy as np\n",
    "import csv\n",
    "import os"
   ]
  },
  {
   "cell_type": "code",
   "execution_count": 43,
   "metadata": {},
   "outputs": [],
   "source": [
    "# read dicom and create blank mask\n",
    "trainpath = '/sda1/zhouziyu/ssl/dataset/SIIM-ACR_Pneumothorax_segmentation/train/'\n",
    "dst_img = '/sda1/zhouziyu/ssl/dataset/SIIM-ACR_Pneumothorax_segmentation/image_all/'\n",
    "dst_mask = '/sda1/zhouziyu/ssl/dataset/SIIM-ACR_Pneumothorax_segmentation/mask_all/'\n",
    "trainlist = os.listdir(trainpath)\n",
    "for i in trainlist:\n",
    "    ds = dicom.dcmread(trainpath+i)\n",
    "    # img = np.array(ds.pixel_array)\n",
    "    # cv2.imwrite(dst_img+i+'.jpeg', img)\n",
    "    h = ds.Rows\n",
    "    w = ds.Columns\n",
    "    mask= np.zeros([h,w,3],dtype=\"uint8\")\n",
    "    cv2.imwrite(dst_mask+i+'_mask.png', mask)"
   ]
  },
  {
   "cell_type": "code",
   "execution_count": 46,
   "metadata": {},
   "outputs": [],
   "source": [
    "# load csv label\n",
    "dst_mask = '/sda1/zhouziyu/ssl/dataset/SIIM-ACR_Pneumothorax_segmentation/mask_all/'\n",
    "traincsv = '/sda1/zhouziyu/ssl/dataset/SIIM-ACR_Pneumothorax_segmentation/stage_2_train.csv'\n",
    "imglist = []\n",
    "\n",
    "# decode mask\n",
    "# def rle2mask(rle, width, height):\n",
    "#     mask= np.zeros(width* height)\n",
    "#     array = np.asarray([int(x) for x in rle.split()])\n",
    "#     starts = array[0::2]\n",
    "#     lengths = array[1::2]\n",
    "\n",
    "#     current_position = 0\n",
    "#     for index, start in enumerate(starts):\n",
    "#         current_position += start\n",
    "#         mask[current_position:current_position+lengths[index]] = 255\n",
    "#         current_position += lengths[index]\n",
    "\n",
    "#     return mask.reshape(width, height)\n",
    "\n",
    "def rle2mask(rle, mask):\n",
    "    h,w,_ = mask.shape\n",
    "    mask= mask[:,:,0]\n",
    "    mask = mask.reshape(-1)\n",
    "    array = np.asarray([int(x) for x in rle.split()])\n",
    "    starts = array[0::2]\n",
    "    lengths = array[1::2]\n",
    "    # print(np.unique(mask))\n",
    "\n",
    "    current_position = 0\n",
    "    for index, start in enumerate(starts):\n",
    "        current_position += start\n",
    "        mask[current_position:current_position+lengths[index]] = 255\n",
    "        current_position += lengths[index]\n",
    "    # print(np.unique(mask))\n",
    "    mask = mask.reshape(w, h)\n",
    "    mask = np.expand_dims(mask, axis=2)\n",
    "    mask = np.repeat(mask, 3, axis=2)\n",
    "\n",
    "    return mask\n",
    "\n",
    "with open(traincsv, 'r') as fileDescriptor:\n",
    "    csvReader = csv.reader(fileDescriptor)\n",
    "    next(csvReader, None)\n",
    "    for line in csvReader:\n",
    "        if line[2]!='-1':\n",
    "            imgname = line[1]\n",
    "            mask = cv2.imread(dst_mask+imgname+'.dcm_mask.png')\n",
    "            # print(np.unique(mask, return_counts=True))\n",
    "            decode_mask = rle2mask(line[2], mask)\n",
    "            # print(np.unique(decode_mask))\n",
    "            # print(decode_mask.dtype)\n",
    "            cv2.imwrite(dst_mask+imgname+'.dcm_mask.png', decode_mask)\n",
    "            # break"
   ]
  },
  {
   "cell_type": "code",
   "execution_count": 9,
   "metadata": {},
   "outputs": [
    {
     "name": "stdout",
     "output_type": "stream",
     "text": [
      "[['1.2.276.0.7230010.3.1.4.8323329.4541.1517875183.370160.dcm' ' -1']\n",
      " ['1.2.276.0.7230010.3.1.4.8323329.11747.1517875234.580518.dcm' ' -1']\n",
      " ['1.2.276.0.7230010.3.1.4.8323329.10374.1517875223.421330.dcm'\n",
      "  ' 615576 14 1004 22 999 27 994 31 989 35 985 38 980 43 975 48 964 59 959 65 957 66 957 67 956 67 956 67 956 67 956 67 956 66 957 66 957 66 957 66 957 66 958 65 958 65 958 65 959 64 960 62 961 62 962 60 964 59 964 59 965 58 965 59 965 58 966 57 967 57 967 56 968 55 969 54 969 55 969 54 970 54 970 53 971 53 972 51 973 51 973 50 974 50 974 49 975 48 976 48 976 47 977 47 978 45 979 45 979 44 980 44 980 43 981 43 981 43 982 41 983 41 983 41 983 41 984 40 984 40 984 40 984 40 984 40 985 39 985 39 985 38 986 38 986 38 986 38 986 37 987 37 988 36 988 35 989 35 989 35 989 35 990 35 989 35 989 35 989 35 989 35 990 34 990 34 990 35 989 35 990 34 990 34 990 35 989 35 989 35 990 34 990 35 989 35 989 35 989 36 989 35 989 35 989 36 988 36 989 35 989 36 988 36 988 37 988 37 987 38 986 39 985 40 985 39 985 40 984 41 984 41 983 42 983 42 983 42 983 42 983 42 982 43 982 43 981 44 981 43 982 44 980 46 979 46 979 47 978 47 978 47 978 47 977 49 976 49 976 49 976 49 976 49 976 48 977 48 977 49 976 49 976 50 974 52 973 52 973 52 973 52 972 54 971 54 972 53 972 53 971 54 971 54 971 54 971 54 971 54 971 54 971 54 972 53 972 53 972 53 972 52 973 52 973 52 973 51 974 51 975 50 975 50 976 50 976 49 976 49 976 49 976 49 976 49 976 49 976 49 976 49 978 47 979 45 981 44 982 43 982 42 983 42 983 42 983 42 983 42 984 43 983 42 983 43 983 42 983 42 983 43 982 44 981 44 982 44 981 46 980 47 979 47 978 47 979 46 979 46 979 46 979 46 979 46 980 45 981 46 979 47 978 48 977 48 977 49 977 48 977 49 977 48 979 47 979 46 980 46 980 45 980 45 981 44 981 43 982 43 983 41 985 40 986 39 987 38 987 38 987 38 987 38 987 37 989 34 994 28 1001 20']\n",
      " ...\n",
      " ['1.2.276.0.7230010.3.1.4.8323329.388.1517875162.713279.dcm' ' -1']\n",
      " ['1.2.276.0.7230010.3.1.4.8323329.11165.1517875231.492575.dcm' ' -1']\n",
      " ['1.2.276.0.7230010.3.1.4.8323329.12050.1517875237.113402.dcm' ' -1']]\n",
      "(1151, 2)\n"
     ]
    }
   ],
   "source": [
    "# npy --> txt\n",
    "testlist = np.load('/data/zhouziyu/home3/zhouziyu/warmup/sslpretrain/Swin-Transformer/data/data_split/SIIM/validation_image_mask.npy', allow_pickle=True)\n",
    "print(testlist)\n",
    "print(testlist.shape)\n",
    "with open('/data/zhouziyu/home3/zhouziyu/warmup/sslpretrain/Swin-Transformer/data/data_split/SIIM/val.txt', 'w') as f:\n",
    "    for i in range(testlist.shape[0]):\n",
    "        f.writelines(testlist[i,0]+'\\n')\n",
    "f.close()"
   ]
  },
  {
   "cell_type": "code",
   "execution_count": 13,
   "metadata": {},
   "outputs": [],
   "source": [
    "traintxt = '/data/zhouziyu/home3/zhouziyu/warmup/sslpretrain/Swin-Transformer/data/data_split/SIIM/val_new.txt'\n",
    "\n",
    "with open('/data/zhouziyu/home3/zhouziyu/warmup/sslpretrain/Swin-Transformer/data/data_split/SIIM/val.txt', 'w') as f:\n",
    "    with open(traintxt, encoding='utf-8') as e: # load train list and train label\n",
    "        list = e.readlines()\n",
    "        for i in list:\n",
    "            i = i.split('\\n')[0]\n",
    "            train_list = i.split('.jpeg')[0]\n",
    "            f.writelines(train_list+'\\n')\n",
    "f.close()\n"
   ]
  },
  {
   "cell_type": "code",
   "execution_count": null,
   "metadata": {},
   "outputs": [],
   "source": [
    "# MontgomerySet\n",
    "leftmask = '/sda1/zhouziyu/ssl/dataset/MontgomerySet/ManualMask/leftMask/'\n",
    "rightmask = '/sda1/zhouziyu/ssl/dataset/MontgomerySet/ManualMask/rightMask/'\n",
    "allmask = '/sda1/zhouziyu/ssl/dataset/MontgomerySet/ManualMask/LeftRightMask/'\n",
    "\n",
    "masklist = os.listdir(leftmask)\n",
    "for i in masklist:\n",
    "    mask1 = cv2.imread(leftmask+i)\n",
    "    mask2 = cv2.imread(rightmask+i)\n",
    "    mask2[mask1==255]=255\n",
    "    cv2.imwrite(allmask+i, mask2)"
   ]
  }
 ],
 "metadata": {
  "kernelspec": {
   "display_name": "ipy",
   "language": "python",
   "name": "python3"
  },
  "language_info": {
   "codemirror_mode": {
    "name": "ipython",
    "version": 3
   },
   "file_extension": ".py",
   "mimetype": "text/x-python",
   "name": "python",
   "nbconvert_exporter": "python",
   "pygments_lexer": "ipython3",
   "version": "3.7.0"
  }
 },
 "nbformat": 4,
 "nbformat_minor": 2
}
